{
 "cells": [
  {
   "cell_type": "code",
   "execution_count": 1,
   "id": "70cab5b6",
   "metadata": {
    "tags": []
   },
   "outputs": [],
   "source": [
    "%load_ext autoreload\n",
    "%autoreload 2"
   ]
  },
  {
   "cell_type": "code",
   "execution_count": 2,
   "id": "8d7fdcea",
   "metadata": {
    "tags": []
   },
   "outputs": [
    {
     "data": {
      "text/plain": [
       "True"
      ]
     },
     "execution_count": 2,
     "metadata": {},
     "output_type": "execute_result"
    }
   ],
   "source": [
    "from dotenv import load_dotenv\n",
    "\n",
    "load_dotenv(\"../../.env.localhost\")"
   ]
  },
  {
   "cell_type": "code",
   "execution_count": 3,
   "id": "79a52b33-08d8-4b71-bcf2-f8e96a82bb0c",
   "metadata": {
    "tags": []
   },
   "outputs": [],
   "source": [
    "import os\n",
    "\n",
    "from pymongo import MongoClient\n",
    "\n",
    "admin_client = MongoClient(\n",
    "    host=os.getenv(\"MONGO_HOST\"),\n",
    "    username=os.getenv(\"MONGO_USERNAME\"),\n",
    "    password=os.getenv(\"MONGO_PASSWORD\"),\n",
    "    directConnection=True, # connect to host as a standalone, rather than to entire replicaset\n",
    ")\n",
    "reader_client = MongoClient(\n",
    "    host=os.getenv(\"MONGO_HOST\"),\n",
    "    username=os.getenv(\"MONGO_READONLY_USERNAME\"),\n",
    "    password=os.getenv(\"MONGO_READONLY_PASSWORD\"),\n",
    "    directConnection=True, # connect to host as a standalone, rather than to entire replicaset\n",
    ")\n",
    "\n",
    "mdb_src = reader_client[os.getenv(\"MONGO_DBNAME\")]\n",
    "mdb_tgt = admin_client[os.getenv(\"MONGO_DBNAME\") + \"-scratch\"]"
   ]
  },
  {
   "cell_type": "code",
   "execution_count": 4,
   "id": "3aa879ec-a0bf-4c6f-99e6-74cae036df50",
   "metadata": {},
   "outputs": [],
   "source": [
    "\"\"\"No output => good.\"\"\"\n",
    "\n",
    "from pymongo.errors import OperationFailure\n",
    "\n",
    "try:\n",
    "    mdb_src.study_set.insert_one({\"_id\": \"foobar\"})\n",
    "    print(\"NOT OK\")\n",
    "    mdb_src.study_set.delete_one({\"_id\": \"foobar\"})\n",
    "    print(\"state restored\")\n",
    "    raise Exception(\"can write to `mdb_src`!\")\n",
    "except OperationFailure:\n",
    "    pass"
   ]
  },
  {
   "cell_type": "code",
   "execution_count": 38,
   "id": "ceb92334",
   "metadata": {
    "tags": []
   },
   "outputs": [],
   "source": [
    "\"\"\"Utils\"\"\"\n",
    "\n",
    "from copy import deepcopy\n",
    "from pprint import pprint\n",
    "\n",
    "import fastjsonschema\n",
    "from toolz import dissoc\n",
    "\n",
    "from nmdc_runtime.util import get_nmdc_jsonschema_dict\n",
    "\n",
    "def without_id_patterns(nmdc_jsonschema):\n",
    "    rv = deepcopy(nmdc_jsonschema)\n",
    "    for cls_, spec in rv[\"$defs\"].items():\n",
    "        if \"properties\" in spec:\n",
    "            if \"id\" in spec[\"properties\"]:\n",
    "                spec[\"properties\"][\"id\"].pop(\"pattern\", None)\n",
    "    return rv\n",
    "\n",
    "def strip_oid(doc):\n",
    "    return dissoc(doc, \"_id\")\n",
    "\n",
    "def get_all(mdb=None, collection_name=None) -> list[dict]:\n",
    "    return {collection_name: [strip_oid(d) for d in mdb_src[collection_name].find()]}\n",
    "\n",
    "def get_some(mdb=None, collection_name=None, limit=5) -> dict:\n",
    "    return {collection_name: [strip_oid(d) for d in mdb_src[collection_name].find(limit=limit)]}\n",
    "\n",
    "def get_one(mdb=None, collection_name=None) -> dict:\n",
    "    return strip_oid(mdb_src[collection_name].find_one())\n",
    "\n",
    "nmdc_jsonschema_validate = fastjsonschema.compile(without_id_patterns(get_nmdc_jsonschema_dict()))\n",
    "\n",
    "def nmdc_schema_collection_names() -> set:\n",
    "    return {\n",
    "        k for k, v in get_nmdc_jsonschema_dict()[\"$defs\"][\"Database\"][\"properties\"].items()\n",
    "        if v.get(\"items\",{}).get(\"$ref\")\n",
    "    }\n",
    "\n",
    "def present_src_collections(mdb) -> list:\n",
    "    return sorted(\n",
    "        n for n in (nmdc_schema_collection_names() & set(mdb_src.list_collection_names()))\n",
    "        if mdb_src[n].estimated_document_count()\n",
    "    )\n",
    "\n",
    "def iter_validate(mdb=None, collection_name=None, limit=0, xform=None):\n",
    "    for d in mdb_src[collection_name].find(limit=limit):\n",
    "        d = strip_oid(d)\n",
    "        if xform:\n",
    "            d = xform(d, {\"collection_name\": collection_name})\n",
    "        try:\n",
    "            _ = nmdc_jsonschema_validate({collection_name: [d]})\n",
    "        except fastjsonschema.JsonSchemaException as e:\n",
    "            print(d[\"id\"])\n",
    "            print(e)\n",
    "            pprint(d)"
   ]
  },
  {
   "cell_type": "code",
   "execution_count": 39,
   "id": "9e171bbd-09b0-4941-a6cd-a5f2bf6d2c7d",
   "metadata": {
    "tags": []
   },
   "outputs": [
    {
     "name": "stdout",
     "output_type": "stream",
     "text": [
      "['biosample_set',\n",
      " 'data_object_set',\n",
      " 'mags_activity_set',\n",
      " 'metabolomics_analysis_activity_set',\n",
      " 'metagenome_annotation_activity_set',\n",
      " 'metagenome_assembly_set',\n",
      " 'metagenome_sequencing_activity_set',\n",
      " 'metaproteomics_analysis_activity_set',\n",
      " 'metatranscriptome_activity_set',\n",
      " 'nom_analysis_activity_set',\n",
      " 'omics_processing_set',\n",
      " 'read_qc_analysis_activity_set',\n",
      " 'study_set']\n"
     ]
    }
   ],
   "source": [
    "collection_names = present_src_collections(mdb_src)\n",
    "\n",
    "pprint(collection_names)"
   ]
  },
  {
   "cell_type": "code",
   "execution_count": 48,
   "id": "a0fbba94-b5bb-44c6-9ccc-28c2d67b58d4",
   "metadata": {
    "tags": []
   },
   "outputs": [],
   "source": [
    "\"\"\"Declarative config for migration\"\"\"\n",
    "\n",
    "fieldname_replacements = {\n",
    "    \"biosample_set\": {\n",
    "        \"INSDC_biosample_identifiers\": \"insdc_biosample_identifiers\",\n",
    "        # # \"part_of\": \"sample_link\",\n",
    "        \"identifier\": \"samp_name\",\n",
    "        \"GOLD_sample_identifiers\": \"gold_biosample_identifiers\",\n",
    "    },\n",
    "    \"study_set\": {\n",
    "        \"GOLD_study_identifiers\": \"gold_study_identifiers\",\n",
    "    },\n",
    "    \"omics_processing_set\": {\n",
    "        \"GOLD_sequencing_project_identifiers\": \"gold_sequencing_project_identifiers\",\n",
    "    },\n",
    "    \"mags_activity_set\": {\n",
    "        \"num_tRNA\": \"num_trnanum_t_rna\",  # inside of mags_list of MagBin instances,\n",
    "        \"lowDepth_contig_num\": \"low_depth_contig_num\",\n",
    "    },\n",
    "    \"metagenome_assembly_set\": {\n",
    "        \"ctg_L50\": \"ctg_l50\",\n",
    "        \"ctg_L90\": \"ctg_l90\",\n",
    "        \"ctg_N50\": \"ctg_n50\",\n",
    "        \"ctg_N90\": \"ctg_n90\",\n",
    "        \"scaf_L50\": \"scaf_l50\",\n",
    "        \"scaf_L90\": \"scaf_l90\",\n",
    "        \"scaf_N50\": \"scaf_n50\",\n",
    "        \"scaf_N90\": \"scaf_n90\",\n",
    "        \"scaf_l_gt50K\": \"scaf_l_gt50k\",\n",
    "        \"scaf_n_gt50K\": \"scaf_n_gt50k\",\n",
    "        \"scaf_pct_gt50K\": \"scaf_pct_gt50k\",\n",
    "    },\n",
    "    \"read_qc_analysis_activity_set\": {\n",
    "        \"output_read_bases\": \"output_base_count\",\n",
    "        \"input_read_bases\": \"input_base_count\",\n",
    "    },\n",
    "}\n",
    "\n",
    "biosample_id_routing = {\n",
    "    \"emsl\": \"emsl_biosample_identifiers\",\n",
    "    \"gold\": \"gold_biosample_identifiers\",\n",
    "    \"igsn\": \"igsn_biosample_identifiers\",\n",
    "    \"img.taxon\": \"img_identifiers\"\n",
    "}\n"
   ]
  },
  {
   "cell_type": "code",
   "execution_count": 46,
   "id": "4ffca622-3dc9-42f7-b424-7c397fde8eb3",
   "metadata": {
    "tags": []
   },
   "outputs": [],
   "source": [
    "from toolz import assoc, dissoc\n",
    "\n",
    "def replace_fields(d, context):\n",
    "    assert \"collection_name\" in context\n",
    "    for old, new in fieldname_replacements[context[\"collection_name\"]].items():\n",
    "        if old in d:\n",
    "            d = dissoc(assoc(d, new, d[old]), old)\n",
    "    return d"
   ]
  },
  {
   "cell_type": "markdown",
   "id": "64c4a6bf-04c2-42aa-9019-86b127d3aab0",
   "metadata": {},
   "source": [
    "# drops"
   ]
  },
  {
   "cell_type": "code",
   "execution_count": 50,
   "id": "2fdde53d",
   "metadata": {
    "tags": []
   },
   "outputs": [],
   "source": [
    "for coll_name, fields in drop.items():\n",
    "    iter_validate(mdb_src, coll_name, xform=replace_fields)"
   ]
  },
  {
   "cell_type": "code",
   "execution_count": null,
   "id": "d1bce8ba-cef7-4b4b-b89a-9081f7e5138f",
   "metadata": {},
   "outputs": [],
   "source": []
  }
 ],
 "metadata": {
  "kernelspec": {
   "display_name": "Python (nmdc-runtime)",
   "language": "python",
   "name": "nmdc-runtime"
  },
  "language_info": {
   "codemirror_mode": {
    "name": "ipython",
    "version": 3
   },
   "file_extension": ".py",
   "mimetype": "text/x-python",
   "name": "python",
   "nbconvert_exporter": "python",
   "pygments_lexer": "ipython3",
   "version": "3.10.4"
  }
 },
 "nbformat": 4,
 "nbformat_minor": 5
}
